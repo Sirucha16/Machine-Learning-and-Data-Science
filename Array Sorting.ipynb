{
 "cells": [
  {
   "cell_type": "markdown",
   "id": "4edab905",
   "metadata": {},
   "source": [
    "Searching Arrays"
   ]
  },
  {
   "cell_type": "code",
   "execution_count": 1,
   "id": "b8b700c7",
   "metadata": {},
   "outputs": [],
   "source": [
    "import numpy as np"
   ]
  },
  {
   "cell_type": "code",
   "execution_count": 2,
   "id": "d80166e7",
   "metadata": {},
   "outputs": [],
   "source": [
    "a=np.array([1,2,3,3,4,5,8,5,10,20,1])"
   ]
  },
  {
   "cell_type": "code",
   "execution_count": 3,
   "id": "c5178112",
   "metadata": {},
   "outputs": [],
   "source": [
    "x=np.where(a==1)"
   ]
  },
  {
   "cell_type": "code",
   "execution_count": 9,
   "id": "e10ff93d",
   "metadata": {},
   "outputs": [],
   "source": [
    "y=np.where(a==4)"
   ]
  },
  {
   "cell_type": "code",
   "execution_count": 4,
   "id": "1ef30db6",
   "metadata": {},
   "outputs": [
    {
     "data": {
      "text/plain": [
       "(array([ 0, 10], dtype=int64),)"
      ]
     },
     "execution_count": 4,
     "metadata": {},
     "output_type": "execute_result"
    }
   ],
   "source": [
    "x"
   ]
  },
  {
   "cell_type": "code",
   "execution_count": 10,
   "id": "2dec8d0a",
   "metadata": {},
   "outputs": [
    {
     "data": {
      "text/plain": [
       "(array([4], dtype=int64),)"
      ]
     },
     "execution_count": 10,
     "metadata": {},
     "output_type": "execute_result"
    }
   ],
   "source": [
    "y"
   ]
  },
  {
   "cell_type": "code",
   "execution_count": 11,
   "id": "739c45f1",
   "metadata": {},
   "outputs": [],
   "source": [
    "ans=np.where(a%2==0)"
   ]
  },
  {
   "cell_type": "code",
   "execution_count": 12,
   "id": "5cc406d1",
   "metadata": {},
   "outputs": [
    {
     "data": {
      "text/plain": [
       "(array([1, 4, 6, 8, 9], dtype=int64),)"
      ]
     },
     "execution_count": 12,
     "metadata": {},
     "output_type": "execute_result"
    }
   ],
   "source": [
    "ans"
   ]
  },
  {
   "cell_type": "code",
   "execution_count": 13,
   "id": "7c46b22d",
   "metadata": {},
   "outputs": [
    {
     "data": {
      "text/plain": [
       "8"
      ]
     },
     "execution_count": 13,
     "metadata": {},
     "output_type": "execute_result"
    }
   ],
   "source": [
    "a[6]"
   ]
  },
  {
   "cell_type": "code",
   "execution_count": 14,
   "id": "4359f010",
   "metadata": {},
   "outputs": [
    {
     "data": {
      "text/plain": [
       "array([ 1,  1,  2,  3,  3,  4,  5,  5,  8, 10, 20])"
      ]
     },
     "execution_count": 14,
     "metadata": {},
     "output_type": "execute_result"
    }
   ],
   "source": [
    "np.sort(a)"
   ]
  },
  {
   "cell_type": "code",
   "execution_count": 15,
   "id": "e9eac467",
   "metadata": {},
   "outputs": [],
   "source": [
    "a2=np.array([44,12,90,76,55])"
   ]
  },
  {
   "cell_type": "code",
   "execution_count": 16,
   "id": "873fc861",
   "metadata": {},
   "outputs": [
    {
     "data": {
      "text/plain": [
       "array([12, 44, 55, 76, 90])"
      ]
     },
     "execution_count": 16,
     "metadata": {},
     "output_type": "execute_result"
    }
   ],
   "source": [
    "np.sort(a2)"
   ]
  },
  {
   "cell_type": "code",
   "execution_count": 17,
   "id": "16322e65",
   "metadata": {},
   "outputs": [],
   "source": [
    "a3=np.array([\"mango\",\"papaya\",\"apple\",\"orange\"])"
   ]
  },
  {
   "cell_type": "code",
   "execution_count": 18,
   "id": "b35bb818",
   "metadata": {},
   "outputs": [
    {
     "data": {
      "text/plain": [
       "array(['apple', 'mango', 'orange', 'papaya'], dtype='<U6')"
      ]
     },
     "execution_count": 18,
     "metadata": {},
     "output_type": "execute_result"
    }
   ],
   "source": [
    "np.sort(a3)"
   ]
  },
  {
   "cell_type": "code",
   "execution_count": null,
   "id": "9e961e67",
   "metadata": {},
   "outputs": [],
   "source": []
  }
 ],
 "metadata": {
  "kernelspec": {
   "display_name": "Python 3 (ipykernel)",
   "language": "python",
   "name": "python3"
  },
  "language_info": {
   "codemirror_mode": {
    "name": "ipython",
    "version": 3
   },
   "file_extension": ".py",
   "mimetype": "text/x-python",
   "name": "python",
   "nbconvert_exporter": "python",
   "pygments_lexer": "ipython3",
   "version": "3.11.4"
  }
 },
 "nbformat": 4,
 "nbformat_minor": 5
}
